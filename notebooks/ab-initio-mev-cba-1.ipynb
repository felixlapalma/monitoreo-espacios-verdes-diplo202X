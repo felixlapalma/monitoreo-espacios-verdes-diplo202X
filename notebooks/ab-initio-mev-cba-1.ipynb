{
 "cells": [
  {
   "cell_type": "markdown",
   "metadata": {},
   "source": [
    "# Monitoreo de Espacios Verdes - 1\n",
    "\n",
    "## Descarga de imágenes"
   ]
  },
  {
   "cell_type": "code",
   "execution_count": 1,
   "metadata": {},
   "outputs": [],
   "source": [
    "%load_ext autoreload\n",
    "%reload_ext autoreload\n",
    "%autoreload 2\n",
    "#\n",
    "import os\n",
    "import matplotlib.pyplot as plt\n",
    "import geopandas as gpd\n",
    "\n",
    "#\n",
    "from eo_tilematcher import intersects, get_spacecraft_db\n",
    "\n",
    "#\n",
    "from eo_forge.utils.downloader import gcSatImg\n",
    "from eo_forge.utils.downloader import bucket_images_downloader"
   ]
  },
  {
   "cell_type": "markdown",
   "metadata": {},
   "source": [
    "## Determinacion de Tile a Descargar\n",
    "\n",
    "Para ello usamos una libreria que nos permite conocer en que tile esta una dada zona de interes"
   ]
  },
  {
   "cell_type": "code",
   "execution_count": 2,
   "metadata": {},
   "outputs": [],
   "source": [
    "sentinel2_tiles = get_spacecraft_db(\"sentinel2\")"
   ]
  },
  {
   "cell_type": "markdown",
   "metadata": {},
   "source": [
    "### Cordoba"
   ]
  },
  {
   "cell_type": "code",
   "execution_count": 3,
   "metadata": {},
   "outputs": [
    {
     "data": {
      "text/html": [
       "<div>\n",
       "<style scoped>\n",
       "    .dataframe tbody tr th:only-of-type {\n",
       "        vertical-align: middle;\n",
       "    }\n",
       "\n",
       "    .dataframe tbody tr th {\n",
       "        vertical-align: top;\n",
       "    }\n",
       "\n",
       "    .dataframe thead th {\n",
       "        text-align: right;\n",
       "    }\n",
       "</style>\n",
       "<table border=\"1\" class=\"dataframe\">\n",
       "  <thead>\n",
       "    <tr style=\"text-align: right;\">\n",
       "      <th></th>\n",
       "      <th>geometry</th>\n",
       "      <th>match_polygon</th>\n",
       "      <th>match</th>\n",
       "      <th>TILE</th>\n",
       "    </tr>\n",
       "  </thead>\n",
       "  <tbody>\n",
       "    <tr>\n",
       "      <th>0</th>\n",
       "      <td>POLYGON ((-64.31465 -31.50421, -64.04686 -31.5...</td>\n",
       "      <td>POLYGON Z ((-64.31465148925781 -31.27796401330...</td>\n",
       "      <td>total</td>\n",
       "      <td>20JLL</td>\n",
       "    </tr>\n",
       "  </tbody>\n",
       "</table>\n",
       "</div>"
      ],
      "text/plain": [
       "                                            geometry  \\\n",
       "0  POLYGON ((-64.31465 -31.50421, -64.04686 -31.5...   \n",
       "\n",
       "                                       match_polygon  match   TILE  \n",
       "0  POLYGON Z ((-64.31465148925781 -31.27796401330...  total  20JLL  "
      ]
     },
     "metadata": {},
     "output_type": "display_data"
    }
   ],
   "source": [
    "gpd_roi = gpd.read_file(\"../data/cba/cordoba.geojson\")\n",
    "#\n",
    "sentinel_match = intersects(\"sentinel2\", gpd_roi)\n",
    "display(sentinel_match)"
   ]
  },
  {
   "cell_type": "code",
   "execution_count": 4,
   "metadata": {},
   "outputs": [
    {
     "data": {
      "text/plain": [
       "Text(0.5, 1.0, 'Cordoba in Sentinel Tile 20JLL')"
      ]
     },
     "execution_count": 4,
     "metadata": {},
     "output_type": "execute_result"
    },
    {
     "data": {
      "image/png": "[encoded data removed]",
      "text/plain": [
       "<Figure size 720x720 with 1 Axes>"
      ]
     },
     "metadata": {
      "needs_background": "light"
     },
     "output_type": "display_data"
    }
   ],
   "source": [
    "f, ax = plt.subplots(1, 1, figsize=(10, 10))\n",
    "sentinel_match.plot(ax=ax, edgecolor=\"None\", alpha=0.5)\n",
    "tile = \"20JLL\"  ## Fill with TILE\n",
    "sentinel2_tiles[sentinel2_tiles.TILE == tile].plot(\n",
    "    ax=ax, facecolor=\"None\", edgecolor=\"r\", lw=2, ls=\":\"\n",
    ")\n",
    "ax.set_title(f\"Cordoba in Sentinel Tile {tile}\")"
   ]
  },
  {
   "cell_type": "markdown",
   "metadata": {},
   "source": [
    "## Descarga\n",
    "\n",
    "Para la descarga podemos usar (entre otros):\n",
    "- [sentinelsat](https://github.com/sentinelsat/sentinelsat).\n",
    "- [_eo_forge_](https://eo-forge.readthedocs.io/en/latest/) \n",
    "\n",
    "Sugerimos empezar con _sentinelsat_ (solo hay que generar una cuenta en [scihub](https://scihub.copernicus.eu/).)\n",
    "\n",
    "En lo que sigue mostramos el correspondiente a [_eo_forge_](https://eo-forge.readthedocs.io/en/latest/reference/utils.html#downloader-module). Para ello sugerimos primero generar el archivo de configuracion correspondiente (revisar paso siguiente)"
   ]
  },
  {
   "cell_type": "markdown",
   "metadata": {},
   "source": [
    "### Archivos de Configuracion - [Google Cloud](https://cloud.google.com/storage/docs/public-datasets/sentinel-2)\n",
    "\n",
    "\n",
    "Google provee acceso gratuito a imagenes de Sentinel 2. En [url](https://cloud.google.com/storage/docs/public-datasets/sentinel-2) podemos obtener un _gzip_ con todas las imagenes y sus respectivos paths (aunque esto lo podemos resolver de otra forma, tambien).\n",
    "\n",
    "Cualquiera sea el camino debemos obtener un archivo de configuracion que nos permite la descarga.\n",
    "\n",
    "#### Generacion de .boto\n",
    "\n",
    "\n",
    "**NOTA**: Actualmente se requiere una autorizacion para descargar las imagenes. El ambiente generado ya debe tener instalado _gsutil_ por lo que activamos el ambiente  y en la linea la linea de comandos (bash, powershell, cmd,etc):\n",
    "\n",
    "\n",
    "``` > gsutil config```\n",
    "\n",
    "\n",
    "Esto mostrara un mensaje y un link. Seguir el link y darle acceso a gsutil a una cuenta de gmail. \n",
    "Seguidamente copiar el codigo y pegarlo en la linea de comandos. Cuando pregunte por un ID de proyecto simplemente intoducir 0 y esperar. Esto generará \n",
    "un Boto config file @ \n",
    "-  linux: '$HOME/.boto' .\n",
    "-  windows: %USERPROFILE%\\\\.boto\n"
   ]
  },
  {
   "cell_type": "markdown",
   "metadata": {},
   "source": [
    "### Cordoba\n",
    "\n",
    "Veamos un caso ejemplo"
   ]
  },
  {
   "cell_type": "code",
   "execution_count": null,
   "metadata": {},
   "outputs": [],
   "source": [
    "s2 = gcSatImg(spacecraft=\"S2\")"
   ]
  },
  {
   "cell_type": "code",
   "execution_count": null,
   "metadata": {},
   "outputs": [],
   "source": [
    "# esto lo obtuvimos con eo_tilematcher\n",
    "s2.gcImagesCheck([\"20\", \"J\", \"LL\"])"
   ]
  },
  {
   "cell_type": "code",
   "execution_count": null,
   "metadata": {},
   "outputs": [],
   "source": [
    "s2.gcImagesFilt(filters=[], dates=[\"2017-01-01\", \"2022-04-20\"])"
   ]
  },
  {
   "cell_type": "code",
   "execution_count": null,
   "metadata": {},
   "outputs": [],
   "source": [
    "MAX_CLOUD_COVER = 80"
   ]
  },
  {
   "cell_type": "code",
   "execution_count": null,
   "metadata": {},
   "outputs": [],
   "source": [
    "pd_filt = s2.pd_filt.copy()\n",
    "pd_filt[\"clouds\"] = pd_filt[\"clouds\"].astype(float)\n",
    "pd_filt = pd_filt[pd_filt[\"clouds\"] < MAX_CLOUD_COVER]\n",
    "pd_filt.drop_duplicates(\"date\", inplace=True)\n",
    "#\n",
    "pd_filt.sort_values(\"date\", inplace=True)"
   ]
  },
  {
   "cell_type": "code",
   "execution_count": null,
   "metadata": {},
   "outputs": [],
   "source": [
    "# filt arbitrario por orbita relativa\n",
    "pd_ = pd_filt[pd_filt[\"product-id\"].str.contains(\"R010\")].copy()"
   ]
  },
  {
   "cell_type": "code",
   "execution_count": null,
   "metadata": {},
   "outputs": [],
   "source": [
    "pd_.reset_index(drop=True, inplace=True)"
   ]
  },
  {
   "cell_type": "code",
   "execution_count": null,
   "metadata": {},
   "outputs": [],
   "source": [
    "pd_.to_csv(\"../data/cba/productos-descargados-cba.cvs\")"
   ]
  },
  {
   "cell_type": "code",
   "execution_count": null,
   "metadata": {},
   "outputs": [],
   "source": [
    "pd_to_download = pd_.copy()\n",
    "pd_to_download"
   ]
  },
  {
   "cell_type": "code",
   "execution_count": null,
   "metadata": {},
   "outputs": [],
   "source": [
    "BANDS = [\"B02\", \"B03\", \"B04\", \"B05\", \"B06\", \"B07\", \"B8A\", \"B08\", \"B11\", \"B12\"]"
   ]
  },
  {
   "cell_type": "code",
   "execution_count": null,
   "metadata": {},
   "outputs": [],
   "source": [
    "IMAGES_RAW = \"/data/sat-images/sentinel2/\""
   ]
  },
  {
   "cell_type": "code",
   "execution_count": null,
   "metadata": {},
   "outputs": [],
   "source": [
    "bid = bucket_images_downloader(spacecraft=\"S2\", bands=BANDS)\n",
    "bid.execute(\n",
    "    pd_to_download[\"base-url\"].to_list(),\n",
    "    archive=IMAGES_RAW,\n",
    "    max_proc_thread=5,\n",
    "    force_download=False,\n",
    ")"
   ]
  },
  {
   "cell_type": "code",
   "execution_count": null,
   "metadata": {},
   "outputs": [],
   "source": []
  }
 ],
 "metadata": {
  "kernelspec": {
   "display_name": "Python 3 (ipykernel)",
   "language": "python",
   "name": "python3"
  },
  "language_info": {
   "codemirror_mode": {
    "name": "ipython",
    "version": 3
   },
   "file_extension": ".py",
   "mimetype": "text/x-python",
   "name": "python",
   "nbconvert_exporter": "python",
   "pygments_lexer": "ipython3",
   "version": "3.9.7"
  }
 },
 "nbformat": 4,
 "nbformat_minor": 4
}
